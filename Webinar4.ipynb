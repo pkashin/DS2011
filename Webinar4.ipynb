{
  "nbformat": 4,
  "nbformat_minor": 0,
  "metadata": {
    "colab": {
      "name": "Webinar4.ipynb",
      "provenance": [],
      "collapsed_sections": [],
      "include_colab_link": true
    },
    "kernelspec": {
      "name": "python3",
      "display_name": "Python 3"
    },
    "language_info": {
      "name": "python"
    }
  },
  "cells": [
    {
      "cell_type": "markdown",
      "metadata": {
        "id": "view-in-github",
        "colab_type": "text"
      },
      "source": [
        "<a href=\"https://colab.research.google.com/github/pkashin/DS2011/blob/master/Webinar4.ipynb\" target=\"_parent\"><img src=\"https://colab.research.google.com/assets/colab-badge.svg\" alt=\"Open In Colab\"/></a>"
      ]
    },
    {
      "cell_type": "markdown",
      "metadata": {
        "id": "-xXfnGo-fHKr"
      },
      "source": [
        "# Консультация 28.10.2021\n",
        "\n",
        "\n",
        "\n",
        "\n",
        "\n",
        "\n",
        "\n",
        "\n",
        "\n",
        "\n",
        "\n",
        "\n",
        "\n",
        "\n",
        "\n",
        "\n",
        "\n",
        "\n",
        "\n",
        "\n",
        "\n",
        "\n",
        "\n",
        "\n",
        "\n",
        "\n",
        "\n",
        "\n",
        "\n",
        "\n",
        "\n",
        "\n",
        "--"
      ]
    },
    {
      "cell_type": "markdown",
      "metadata": {
        "id": "vYBqjkI2cQhh"
      },
      "source": [
        "# 6. Ближайшее значение\n",
        "\n",
        "Дан набор цен о билетах. Кроме того, задана некоторая выбранная цена price.\n",
        "Необходимо найти ту строчку, в которой значение цены самое близкое к выбранной цене.\n",
        "\n",
        "В данной задаче не надо читать или писать данные.\n",
        "Вместо этого необходимо только реализовать функцию `find_nearest(df, price)`.\n",
        "Эта функция принимает два аргумента:\n",
        "1. df - pandas.DataFrame - набор данных о билетах. Цена записана к колонке price.\n",
        "2. price - вещественное число. Выбранная цена.\n",
        "Эта функция должна вернуть pandas.Series - всю строчку целиком, которое содержит наиближайшее значение к выбранной цене.\n",
        "\n",
        "## Шаблон для решения\n",
        "\n",
        "```python\n",
        "import pandas as pd\n",
        "import numpy as np\n",
        "\n",
        "def find_nearest(df, price):\n",
        "    '''Вставьте ваш код здесь'''\n",
        "```\n",
        "\n",
        "## Примечание\n",
        "\n",
        "В качестве отступа внутри функции используется 4 пробела. \n",
        "\n",
        "## Комментарий к примерам\n",
        "\n",
        "Ниже приведены примеры для лучшего понимания условия задачи.\n",
        "Однако не стоит ориентироваться на них, как на пример данных, которые нужно читать или выводить, потому что в этой задаче **не надо ничего читать и писать**.\n",
        "Нужно **только реализовать указанную функцию**.\n",
        "Это означает, что весь код решения должен находиться внутри тела функции и возвращать требуемый результат через инструкцию return. Операции считывания данных (например, `input()`) или их вывода (например, `print()`) писать не надо.\n",
        "Нужно оперировать внутри функции только аргументами, которые подставляются в функцию автоматически.\n",
        "\n",
        "## Пример входных данных для функции\n",
        "\n",
        "```\n",
        "23.00\n",
        "ticket_id,flight_id,operator_id,price\n",
        "FBD1235F,XY2554,SKND,100.00\n",
        "XTT2F576,XY2554,,20.00\n",
        "QTH36773,NF0514,,\n",
        "GDERWRWM,AB4662,DTTG,10.00\n",
        "TTEHWHER,CD9962,AMAR,200.00\n",
        "```\n",
        "\n",
        "## Пример результата работы функции\n",
        "\n",
        "```\n",
        "XTT2F576,XY2554,,20.0\n",
        "```"
      ]
    },
    {
      "cell_type": "code",
      "metadata": {
        "id": "ISvvmQmoZ8IE"
      },
      "source": [
        "import pandas as pd\n",
        "import numpy as np\n",
        "\n",
        "def find_nearest(df, price):\n",
        "    df1 = abs(df['price'] - price)\n",
        "    df1_min = df1.min()\n",
        "    for idx in range(len(df1)):\n",
        "        if df1[idx] == df1_min:\n",
        "            return df.iloc[idx]\n",
        "    return None"
      ],
      "execution_count": null,
      "outputs": []
    },
    {
      "cell_type": "code",
      "metadata": {
        "id": "F31LVgFolLQL"
      },
      "source": [
        "import pandas as pd\n",
        "import numpy as np\n",
        "\n",
        "def find_nearest(df, price):\n",
        "    return df.iloc[(df[\"price\"] - price).abs().argmin()]\n",
        "\n",
        "# /content/sample_data/README.md\n",
        "# pd.read_csv('/content/sample_data/california_housing_train.csv')"
      ],
      "execution_count": null,
      "outputs": []
    },
    {
      "cell_type": "code",
      "metadata": {
        "id": "5vQdMtNLadDG"
      },
      "source": [
        "import pandas as pd\n",
        "import numpy as np\n",
        "\n",
        "def find_nearest(df, price):\n",
        "    return df.loc[(df[\"price\"] - price).abs().idxmin()]"
      ],
      "execution_count": null,
      "outputs": []
    },
    {
      "cell_type": "markdown",
      "metadata": {
        "id": "UK2eIJ-gTdaR"
      },
      "source": [
        "# 9. Средняя цена\n",
        "\n",
        "Дан набор цен на билеты по рейсам. Определите среднюю цену билета для каждого из рейсов. \n",
        "\n",
        "В данной задаче не надо читать или писать данные.\n",
        "Вместо этого необходимо только реализовать функцию `count_avg_price(df)`.\n",
        "Эта функция принимает pandas.DataFrame.\n",
        "Идентификатор рейса записан в колонке flight_id, а цена в колонке price.\n",
        "Функция должна возвратить pandas.DataFrame в котором индекс - это flight_id, а колонка price - средняя цена для данного рейса.\n",
        "\n",
        "## Шаблон для решения\n",
        "\n",
        "```python\n",
        "import pandas as pd\n",
        "import numpy as np\n",
        "\n",
        "def count_avg_price(df):\n",
        "    '''Вставьте ваш код здесь'''\n",
        "```\n",
        "\n",
        "## Примечание\n",
        "\n",
        "В качестве отступа внутри функции используется 4 пробела. \n",
        "\n",
        "## Комментарий к примерам\n",
        "\n",
        "Ниже приведены примеры для лучшего понимания условия задачи.\n",
        "Однако не стоит ориентироваться на них, как на пример данных, которые нужно читать или выводить, потому что в этой задаче **не надо ничего читать и писать**.\n",
        "Нужно **только реализовать указанную функцию**.\n",
        "Это означает, что весь код решения должен находиться внутри тела функции и возвращать требуемый результат через инструкцию return. Операции считывания данных (например, `input()`) или их вывода (например, `print()`) писать не надо.\n",
        "Нужно оперировать внутри функции только аргументами, которые подставляются в функцию автоматически.\n",
        "\n",
        "## Пример входных данных\n",
        "\n",
        "```\n",
        "flight_id,seat,price\n",
        "AB255,53;B,100.00\n",
        "XY025,02;C,350.00\n",
        "AB255,54;A,200.00\n",
        "```\n",
        "\n",
        "## Пример выходных данных\n",
        "\n",
        "```\n",
        "flight_id,price\n",
        "AB255,150.00\n",
        "XY025,350.00\n",
        "```"
      ]
    },
    {
      "cell_type": "code",
      "metadata": {
        "id": "kb7tIKLxdgql"
      },
      "source": [
        "import numpy as np\n",
        "import pandas as pd\n",
        "\n",
        "def count_avg_price(df):\n",
        "    uniq_ids = df[\"flight_id\"].unique()\n",
        "    means = []\n",
        "    for id in uniq_ids:\n",
        "        id_price_mean = df.loc[df['flight_id'] == id].mean().item()\n",
        "        means.append(dict(flight_id=id, price=id_price_mean))\n",
        "    df_means = pd.DataFrame(means)\n",
        "    df_means.set_index(['flight_id'], inplace=True)\n",
        "    return df_means"
      ],
      "execution_count": null,
      "outputs": []
    },
    {
      "cell_type": "code",
      "metadata": {
        "id": "pndptqS9cH_3"
      },
      "source": [
        "import numpy as np\n",
        "import pandas as pd\n",
        "\n",
        "def count_avg_price(df):\n",
        "    return df.groupby('flight_id').agg({'price':['mean', 'count']})\n"
      ],
      "execution_count": null,
      "outputs": []
    },
    {
      "cell_type": "code",
      "metadata": {
        "id": "Pzl4dopxu05_"
      },
      "source": [
        "import numpy as np\n",
        "import pandas as pd\n",
        "\n",
        "def count_avg_price(df):\n",
        "\treturn df.groupby([\"flight_id\"]).mean()"
      ],
      "execution_count": null,
      "outputs": []
    },
    {
      "cell_type": "markdown",
      "metadata": {
        "id": "z0s7iT5ah8np"
      },
      "source": [
        "# 2. Поиск самолетов[2]\n",
        "Необходимо вывести все модели самолетов, на которых был совершен хотя бы один рейс, с указанием количества рейсов, выполненных на каждой модели. Рейс считается выполненным, если самолет прибыл в пункт назначения. Элементы выборки должны быть упорядочены по убыванию числа рейсов.\n",
        "\n",
        "## Формат вывода\n",
        "\n",
        "`model, flights_num`\n",
        "\n",
        "## Пример вывода\n",
        "\n",
        "```\n",
        "| model               | flights_num |\n",
        "|---------------------|-------------|\n",
        "| Boeing 777-300      | 198         |\n",
        "| Sukhoi Superjet-100 | 175         |\n",
        "```"
      ]
    },
    {
      "cell_type": "code",
      "metadata": {
        "id": "-DBWkAdbnjEX"
      },
      "source": [
        "\n",
        "\n",
        "\n"
      ],
      "execution_count": null,
      "outputs": []
    },
    {
      "cell_type": "code",
      "metadata": {
        "id": "WrEjwSZdfKZg"
      },
      "source": [
        "SELECT aircrafts.model as model, COUNT(*) AS flights_num\n",
        "FROM aircrafts\n",
        "INNER JOIN flights ON aircrafts.aircraft_code = flights.aircraft_code\n",
        "WHERE flights.status = 'Arrived'\n",
        "GROUP BY aircrafts.model\n",
        "ORDER BY flights_num DESC;"
      ],
      "execution_count": null,
      "outputs": []
    },
    {
      "cell_type": "markdown",
      "metadata": {
        "id": "fvS3vKBJka6n"
      },
      "source": [
        "# 3. Поиск дешевых авиабилетов\n",
        "Требуется найти все рейсы, для которых средняя стоимость перелета более 3300, но менее 5000 рублей.\n",
        "Вхождения в выборку должны быть упорядочены по возрастанию `flight_id`.\n",
        "\n",
        "## Примечание\n",
        "\n",
        "Необходимо усреднять стоимость по всем билетам для данного рейса.\n",
        "\n",
        "## Формат вывода\n",
        "\n",
        "`flight_id, avg_amount`\n",
        "\n",
        "## Пример вывода\n",
        "\n",
        "```\n",
        "| flight_id | avg_amount |\n",
        "|-----------|------------|\n",
        "| 28716     | 3400       |\n",
        "| 29725     | 3500       |\n",
        "```"
      ]
    },
    {
      "cell_type": "code",
      "metadata": {
        "id": "U-PsJ6U3nqOY"
      },
      "source": [
        "\n",
        "\n",
        "\n",
        "\n"
      ],
      "execution_count": null,
      "outputs": []
    },
    {
      "cell_type": "code",
      "metadata": {
        "id": "JU1FeQbwmi96"
      },
      "source": [
        "SELECT flight_id, AVG(amount) as avg_amount\n",
        "FROM ticket_flights\n",
        "GROUP BY flight_id\n",
        "HAVING avg_amount < 5000\n",
        "  AND avg_amount > 3300\n",
        "ORDER BY flight_id;"
      ],
      "execution_count": null,
      "outputs": []
    },
    {
      "cell_type": "markdown",
      "metadata": {
        "id": "xhF90q-1iA1V"
      },
      "source": [
        "# 6. Рейсы из Москвы[1]*\n",
        "Необходимо для каждого дня недели найти суммарное количество рейсов из аэропортов Москвы. Вхождения в выборку должны быть упорядочены по убыванию числа рейсов.\n",
        "\n",
        "## Примечание\n",
        "\n",
        "`airport_code` московских аэропортов это SVO, VKO, DME.\n",
        "\n",
        "День недели - это число, где 0 - это воскресенье, 1 - это понедельник и т.д.\n",
        "Возможно, для решения задачи понадобится инструкция по работе с датами из введения.\n",
        "\n",
        "Считать нужно все рейсы вне зависимости от их статуса.\n",
        "\n",
        "## Формат вывода\n",
        "\n",
        "`day_of_week, flights`\n",
        "\n",
        "## Пример вывода\n",
        "\n",
        "```\n",
        "| day_of_week | flights |\n",
        "|-------------|---------|\n",
        "| 1           | 12      |\n",
        "| 2           | 10      |\n",
        "```"
      ]
    },
    {
      "cell_type": "code",
      "metadata": {
        "id": "86GGX8rMiJID"
      },
      "source": [
        "\n",
        "\n",
        "\n"
      ],
      "execution_count": null,
      "outputs": []
    },
    {
      "cell_type": "code",
      "metadata": {
        "id": "eWuBNw4SiJSN"
      },
      "source": [
        "SELECT\n",
        "    cast (strftime('%w', scheduled_departure) as integer) AS day_of_week,\n",
        "    COUNT(*) AS flights\n",
        "FROM flights\n",
        "WHERE departure_airport IN ('DME', 'SVO', 'VKO')\n",
        "GROUP BY day_of_week\n",
        "ORDER BY flights DESC"
      ],
      "execution_count": null,
      "outputs": []
    },
    {
      "cell_type": "markdown",
      "metadata": {
        "id": "6rc1N6eRfcHu"
      },
      "source": [
        "# Обратная связь\n",
        "Ссылка на форму обратной связи:\n",
        "https://forms.gle/SnqinPcmAtXzF7u77"
      ]
    }
  ]
}