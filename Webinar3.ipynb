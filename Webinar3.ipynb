{
  "nbformat": 4,
  "nbformat_minor": 0,
  "metadata": {
    "colab": {
      "name": "Webinar3.ipynb",
      "provenance": [],
      "collapsed_sections": [],
      "include_colab_link": true
    },
    "kernelspec": {
      "name": "python3",
      "display_name": "Python 3"
    },
    "language_info": {
      "name": "python"
    }
  },
  "cells": [
    {
      "cell_type": "markdown",
      "metadata": {
        "id": "view-in-github",
        "colab_type": "text"
      },
      "source": [
        "<a href=\"https://colab.research.google.com/github/pkashin/DS2011/blob/master/Webinar3.ipynb\" target=\"_parent\"><img src=\"https://colab.research.google.com/assets/colab-badge.svg\" alt=\"Open In Colab\"/></a>"
      ]
    },
    {
      "cell_type": "markdown",
      "metadata": {
        "id": "-xXfnGo-fHKr"
      },
      "source": [
        "# Консультация 21.10.2021\n",
        "\n",
        "\n",
        "\n",
        "\n",
        "\n",
        "\n",
        "\n",
        "\n",
        "\n",
        "\n",
        "\n",
        "\n",
        "\n",
        "\n",
        "\n",
        "\n",
        "\n",
        "\n",
        "\n",
        "\n",
        "\n",
        "\n",
        "\n",
        "\n",
        "\n",
        "\n",
        "\n",
        "\n",
        "\n",
        "\n",
        "\n",
        "\n",
        "--"
      ]
    },
    {
      "cell_type": "code",
      "metadata": {
        "id": "F31LVgFolLQL"
      },
      "source": [
        ""
      ],
      "execution_count": null,
      "outputs": []
    },
    {
      "cell_type": "markdown",
      "metadata": {
        "id": "UK2eIJ-gTdaR"
      },
      "source": [
        "# 8. Общие идентификаторы\n",
        "\n",
        "Обнаружилось, что несколько аналитиков продублировали работу друг друга.\n",
        "Теперь нужно понять, какие рейсы обработали несколько раз.\n",
        "\n",
        "Вам дано несколько наборов идентификаторов рейсов (набор **flight_id**). \n",
        "Необходимо определить те идентификаторы, которые присутствуют в **каждом** наборе. \n",
        "\n",
        "В этой задаче надо написать весь код самостоятельно (а не реализовывать какую-то конкретную функцию).\n",
        "Решение должно само читать входные данные и писать ответ в заданном формате.\n",
        "\n",
        "## Формат выходных данных\n",
        "\n",
        "На первой строчке записано натуральное число N.\n",
        "На последующих N строчках записаны идентификаторы тех рейсов, которые обработал очередной аналитик.\n",
        "На одной строчке все идентификаторы записаны через запятую. В самих данных запятых нет.\n",
        "Каждый идентификатор рейса (**flight_id**) - это натуральное число.\n",
        "\n",
        "## Формат выходных данных\n",
        "\n",
        "Одна строчка. Выведите все общие идентификаторы в порядке возрастания их значения (как числа).\n",
        "В качестве разделителя используйте запятую.\n",
        "\n",
        "## Примечание\n",
        "\n",
        "Обратите внимание, что строчки и числа сравниваются по-разному.\n",
        "Так, например, строка \"3\" больше строчки \"10\".\n",
        "Иными словами в ответе должно быть 3,10 вместо \"10\",\"3\".\n",
        "\n",
        "## Пример входных данных\n",
        "\n",
        "```\n",
        "3\n",
        "7,3,2\n",
        "1,2,3,4,5\n",
        "3,2\n",
        "```\n",
        "\n",
        "## Пример выходных данных\n",
        "\n",
        "```\n",
        "2,3\n",
        "```"
      ]
    },
    {
      "cell_type": "code",
      "metadata": {
        "colab": {
          "base_uri": "https://localhost:8080/"
        },
        "id": "AWWq2xr5xt-0",
        "outputId": "c72e9534-ce71-4f15-cfcf-e8d422f27b6b"
      },
      "source": [
        "a = [1, 2, 2, 2, 3, 4, 5, 6, 7]\n",
        "for item in a:\n",
        "    if item % 2 == 0:\n",
        "        a.remove(item)\n",
        "\n",
        "print(*a, sep=\", \")"
      ],
      "execution_count": null,
      "outputs": [
        {
          "output_type": "stream",
          "name": "stdout",
          "text": [
            "1, 2, 3, 5, 7\n"
          ]
        }
      ]
    },
    {
      "cell_type": "code",
      "metadata": {
        "colab": {
          "base_uri": "https://localhost:8080/"
        },
        "id": "kAW2Wq5azHyV",
        "outputId": "e6c521ed-52b7-4533-a91d-241be53c6f69"
      },
      "source": [
        "a = {7,3,2}\n",
        "b = {1,2,3,4,5}\n",
        "c = {3}\n",
        "arr=[b, c]\n",
        "print(a.intersection(*arr))\n"
      ],
      "execution_count": null,
      "outputs": [
        {
          "output_type": "stream",
          "name": "stdout",
          "text": [
            "{3}\n"
          ]
        }
      ]
    },
    {
      "cell_type": "code",
      "metadata": {
        "colab": {
          "base_uri": "https://localhost:8080/"
        },
        "id": "Pzl4dopxu05_",
        "outputId": "80a26876-98a0-47c4-8bab-3b499ca87388"
      },
      "source": [
        "n = int(input())\n",
        "ans = []\n",
        "for i in range(n):\n",
        "    data = list(map(int, input().split(\",\")))\n",
        "    if i == 0:\n",
        "        ans = data\n",
        "    else:\n",
        "        canditates = []\n",
        "        for item in ans:\n",
        "            if item not in data:\n",
        "                canditates.append(item)\n",
        "        for item in canditates:\n",
        "            ans.remove(item)\n",
        "\n",
        "ans.sort()\n",
        "print(*ans, sep=\",\")"
      ],
      "execution_count": null,
      "outputs": [
        {
          "output_type": "stream",
          "name": "stdout",
          "text": [
            "3\n",
            "7,3,2\n",
            "1,2,3,4,5\n",
            "3,2\n",
            "2,3\n"
          ]
        }
      ]
    },
    {
      "cell_type": "code",
      "metadata": {
        "colab": {
          "base_uri": "https://localhost:8080/"
        },
        "id": "6jxNzRRytf7n",
        "outputId": "9906cb48-7504-4dbe-c6e4-4d6cf2f02699"
      },
      "source": [
        "a = [\"10\", \"3\"]\n",
        "print(*sorted(a), sep=\",\")\n",
        "\n",
        "b = [10, 3]\n",
        "print(*sorted(b), sep=\",\")"
      ],
      "execution_count": null,
      "outputs": [
        {
          "output_type": "stream",
          "name": "stdout",
          "text": [
            "10,3\n",
            "3,10\n"
          ]
        }
      ]
    },
    {
      "cell_type": "code",
      "metadata": {
        "colab": {
          "base_uri": "https://localhost:8080/",
          "height": 242
        },
        "id": "9-7K7Rr6uSNX",
        "outputId": "3c40a088-bbda-4a93-de83-1e58a3b44068"
      },
      "source": [
        "a = [1, 1, 2, 3, 5, 5]\n",
        "b = set(a)\n",
        "print(b)\n",
        "print(a[1])"
      ],
      "execution_count": null,
      "outputs": [
        {
          "output_type": "stream",
          "name": "stdout",
          "text": [
            "{1, 2, 3, 5}\n",
            "1\n"
          ]
        },
        {
          "output_type": "error",
          "ename": "TypeError",
          "evalue": "ignored",
          "traceback": [
            "\u001b[0;31m---------------------------------------------------------------------------\u001b[0m",
            "\u001b[0;31mTypeError\u001b[0m                                 Traceback (most recent call last)",
            "\u001b[0;32m<ipython-input-6-59334cb44753>\u001b[0m in \u001b[0;36m<module>\u001b[0;34m()\u001b[0m\n\u001b[1;32m      3\u001b[0m \u001b[0mprint\u001b[0m\u001b[0;34m(\u001b[0m\u001b[0mb\u001b[0m\u001b[0;34m)\u001b[0m\u001b[0;34m\u001b[0m\u001b[0;34m\u001b[0m\u001b[0m\n\u001b[1;32m      4\u001b[0m \u001b[0mprint\u001b[0m\u001b[0;34m(\u001b[0m\u001b[0ma\u001b[0m\u001b[0;34m[\u001b[0m\u001b[0;36m1\u001b[0m\u001b[0;34m]\u001b[0m\u001b[0;34m)\u001b[0m\u001b[0;34m\u001b[0m\u001b[0;34m\u001b[0m\u001b[0m\n\u001b[0;32m----> 5\u001b[0;31m \u001b[0mprint\u001b[0m\u001b[0;34m(\u001b[0m\u001b[0mb\u001b[0m\u001b[0;34m[\u001b[0m\u001b[0;36m1\u001b[0m\u001b[0;34m]\u001b[0m\u001b[0;34m)\u001b[0m\u001b[0;34m\u001b[0m\u001b[0;34m\u001b[0m\u001b[0m\n\u001b[0m",
            "\u001b[0;31mTypeError\u001b[0m: 'set' object is not subscriptable"
          ]
        }
      ]
    },
    {
      "cell_type": "markdown",
      "metadata": {
        "id": "vYBqjkI2cQhh"
      },
      "source": [
        "# 1. Колонки с пропусками\n",
        "\n",
        "Имеется набор данных о полетах. К сожалению, в некоторых колонках встречаются пропуски.\n",
        "Вам необходимо определить те колонки, в которых есть пропуски.\n",
        "\n",
        "В данной задаче не надо читать или писать данные.\n",
        "Вместо этого необходимо только реализовать функцию `find_null_columns(df)`.\n",
        "Эта функция принимает pandas.DataFrame (данные о полетах) и возвращает список имен колонок с пропусками.\n",
        "Порядок колонок такой же, как и в исходном pandas.DataFrame.\n",
        "\n",
        "## Шаблон для решения\n",
        "\n",
        "```python\n",
        "import pandas as pd\n",
        "import numpy as np\n",
        "\n",
        "def find_null_columns(df):\n",
        "    '''Вставьте ваш код здесь'''\n",
        "```\n",
        "\n",
        "## Примечание\n",
        "\n",
        "В качестве отступа внутри функции используется 4 пробела.\n",
        "\n",
        "## Комментарий к примерам\n",
        "\n",
        "Ниже приведены примеры для лучшего понимания условия задачи.\n",
        "Однако не стоит ориентироваться на них, как на пример данных, которые нужно читать или выводить, потому что в этой задаче **не надо ничего читать и писать**.\n",
        "Нужно **только реализовать указанную функцию**.\n",
        "Это означает, что весь код решения должен находиться внутри тела функции и возвращать требуемый результат через инструкцию return. Операции считывания данных (например, `input()`) или их вывода (например, `print()`) писать не надо.\n",
        "Нужно оперировать внутри функции только аргументами, которые подставляются в функцию автоматически.\n",
        "\n",
        "## Пример входных данных для функции\n",
        "\n",
        "```\n",
        "flight_id,flight_no,status,aircraft_code\n",
        "1,,Delayed,B125\n",
        "2,X77234,Cancelled,\n",
        "3,Y987544,Departed,C12678\n",
        "```\n",
        "\n",
        "## Пример результата работы функции\n",
        "\n",
        "```\n",
        "[\"flight_no\", \"aircraft_code\"]\n",
        "```"
      ]
    },
    {
      "cell_type": "code",
      "metadata": {
        "id": "4qsd1xA90mfB"
      },
      "source": [
        "import numpy as np\n",
        "import pandas as pd\n",
        "\n",
        "def find_null_columns(df):\n",
        "    null_columns = []\n",
        "    for column in df.columns:\n",
        "        for i in df.index:\n",
        "            row = df.iloc[i]\n",
        "            if pd.isnull(row[column]):\n",
        "                null_columns.append(column)\n",
        "                break\n",
        "    return null_columns"
      ],
      "execution_count": null,
      "outputs": []
    },
    {
      "cell_type": "code",
      "metadata": {
        "id": "ZCZmTETi5hR5"
      },
      "source": [
        "def find_null_columns(df):\n",
        "    # df.isnull().any()\n",
        "    return df.columns[df.isnull().any()].to_list()\n"
      ],
      "execution_count": null,
      "outputs": []
    },
    {
      "cell_type": "markdown",
      "metadata": {
        "id": "z0s7iT5ah8np"
      },
      "source": [
        "# 2. Статистика цен на билеты\n",
        "\n",
        "Дан набор цен о билетах.\n",
        "Необходимо вычислить среднюю цену, медиану, а также стандартное отклонение.\n",
        "\n",
        "В данной задаче не надо читать или писать данные.\n",
        "Вместо этого необходимо только реализовать функцию `calculate_statistics(df)`.\n",
        "Эта функция принимает pandas.DataFrame - данные о билетах.\n",
        "Цена (вещественное число) записана в колонке price.\n",
        "\n",
        "Функция должна вернуть словарь с 3 ключами:\n",
        "1. **mean** - содержит среднее\n",
        "2. **median** - содержит медиану\n",
        "3. **std** - содержит стандартное отклонение\n",
        "\n",
        "## Шаблон для решения\n",
        "\n",
        "```python\n",
        "import pandas as pd\n",
        "import numpy as np\n",
        "\n",
        "def calculate_statistics(df):\n",
        "    '''Вставьте ваш код здесь'''\n",
        "```\n",
        "\n",
        "## Примечание\n",
        "\n",
        "В качестве отступа внутри функции используется 4 пробела. \n",
        "\n",
        "## Комментарий к примерам\n",
        "\n",
        "Ниже приведены примеры для лучшего понимания условия задачи.\n",
        "Однако не стоит ориентироваться на них, как на пример данных, которые нужно читать или выводить, потому что в этой задаче **не надо ничего читать и писать**.\n",
        "Нужно **только реализовать указанную функцию**.\n",
        "Это означает, что весь код решения должен находиться внутри тела функции и возвращать требуемый результат через инструкцию return. Операции считывания данных (например, `input()`) или их вывода (например, `print()`) писать не надо.\n",
        "Нужно оперировать внутри функции только аргументами, которые подставляются в функцию автоматически.\n",
        "\n",
        "## Пример входных данных для функции\n",
        "\n",
        "```\n",
        "ticket_id,price\n",
        "FBD1235F,100.00\n",
        "GDERWRWM,160.00\n",
        "TTEHWHER,200.00\n",
        "```\n",
        "\n",
        "## Пример результата работы функции\n",
        "\n",
        "```\n",
        "{\n",
        "    \"mean\": 153.33,\n",
        "    \"median\": 160.00,\n",
        "    \"std\": 50.33\n",
        "}\n",
        "```"
      ]
    },
    {
      "cell_type": "code",
      "metadata": {
        "id": "vEqCIN3Dkaff"
      },
      "source": [
        "def calculate_statistics(df):\n",
        "    prices = df[\"price\"]\n",
        "    return {\n",
        "        \"mean\": prices.mean(),\n",
        "        \"median\": prices.median(),\n",
        "        \"std\": prices.std(),\n",
        "    }"
      ],
      "execution_count": null,
      "outputs": []
    },
    {
      "cell_type": "markdown",
      "metadata": {
        "id": "fvS3vKBJka6n"
      },
      "source": [
        "# 1. Поиск самолетов[1]\n",
        "**Пожалуйста, ознакомьтесь с уроком \"введение\" перед решением задач и обратите особое внимание на блок \"примечания\"**\n",
        "\n",
        "Необходимо вывести все самолеты, максимальная дальность полета которых находится в пределах от 1300 до 5800 километров включительно. Элементы выборки должны быть упорядочены по возрастанию дальности полета.\n",
        "\n",
        "## Примечание\n",
        "\n",
        "Возможно, для решения задачи понадобится документация: https://dev.mysql.com/doc/refman/8.0/en/keywords.html\n",
        "\n",
        "## Формат вывода\n",
        "\n",
        "`model, range`\n",
        "\n",
        "## Пример вывода\n",
        "\n",
        "```\n",
        "| model       | range |\n",
        "|-------------|-------|\n",
        "| Boeing 737  | 5000  |\n",
        "| Airbus A320 | 5700  |\n",
        "```"
      ]
    },
    {
      "cell_type": "code",
      "metadata": {
        "id": "JU1FeQbwmi96"
      },
      "source": [
        "SELECT model, `range`\n",
        "FROM aircrafts\n",
        "WHERE `range` BETWEEN 1300 AND 5800\n",
        "ORDER BY `range`;"
      ],
      "execution_count": null,
      "outputs": []
    },
    {
      "cell_type": "markdown",
      "metadata": {
        "id": "6rc1N6eRfcHu"
      },
      "source": [
        "# Обратная связь\n",
        "Ссылка на форму обратной связи:\n",
        "https://forms.gle/SnqinPcmAtXzF7u77"
      ]
    }
  ]
}