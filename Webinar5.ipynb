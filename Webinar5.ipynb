{
  "nbformat": 4,
  "nbformat_minor": 0,
  "metadata": {
    "colab": {
      "name": "Webinar5.ipynb",
      "provenance": [],
      "collapsed_sections": [],
      "include_colab_link": true
    },
    "kernelspec": {
      "name": "python3",
      "display_name": "Python 3"
    },
    "language_info": {
      "name": "python"
    }
  },
  "cells": [
    {
      "cell_type": "markdown",
      "metadata": {
        "id": "view-in-github",
        "colab_type": "text"
      },
      "source": [
        "<a href=\"https://colab.research.google.com/github/pkashin/DS2011/blob/master/Webinar5.ipynb\" target=\"_parent\"><img src=\"https://colab.research.google.com/assets/colab-badge.svg\" alt=\"Open In Colab\"/></a>"
      ]
    },
    {
      "cell_type": "markdown",
      "metadata": {
        "id": "OazrgYL6DxaT"
      },
      "source": [
        "# Консультация 04.11.2021"
      ]
    },
    {
      "cell_type": "code",
      "metadata": {
        "id": "8FeXbovtDaZ0"
      },
      "source": [
        "def find_popular(df, columns):\n",
        "    df_group=df.groupby(columns)\n",
        "    s=df_group.size().max()\n",
        "    d=df_group[columns].nth([s-1])\n",
        "    # print(d)\n",
        "    #print(d.iloc[0])\n",
        "    #print(d.index)\n",
        "    #return None\n",
        "    dd=d.reset_index()\n",
        "    return dd"
      ],
      "execution_count": null,
      "outputs": []
    },
    {
      "cell_type": "code",
      "metadata": {
        "id": "ax7IANEMDn3J"
      },
      "source": [
        "#Выбрать группы:\n",
        "df = df.groupby(by=\"XXXX\")['XXXX'].agg(['count'])\n",
        "groups = df.loc[df['count'] >= 10]\n",
        "\n",
        "#Выбрать строки\n",
        "rows = df.groupby(by=\"XXXX\").filter(lambda g: len(g) >= 10)"
      ],
      "execution_count": null,
      "outputs": []
    }
  ]
}