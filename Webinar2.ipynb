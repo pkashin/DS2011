{
  "nbformat": 4,
  "nbformat_minor": 0,
  "metadata": {
    "colab": {
      "name": "Webinar2.ipynb",
      "provenance": [],
      "collapsed_sections": [],
      "include_colab_link": true
    },
    "kernelspec": {
      "name": "python3",
      "display_name": "Python 3"
    },
    "language_info": {
      "name": "python"
    }
  },
  "cells": [
    {
      "cell_type": "markdown",
      "metadata": {
        "id": "view-in-github",
        "colab_type": "text"
      },
      "source": [
        "<a href=\"https://colab.research.google.com/github/pkashin/DS2011/blob/master/Webinar2.ipynb\" target=\"_parent\"><img src=\"https://colab.research.google.com/assets/colab-badge.svg\" alt=\"Open In Colab\"/></a>"
      ]
    },
    {
      "cell_type": "markdown",
      "metadata": {
        "id": "-xXfnGo-fHKr"
      },
      "source": [
        "# Консультация 14.10.2021\n",
        "\n",
        "\n",
        "\n",
        "\n",
        "\n",
        "\n",
        "\n",
        "\n",
        "\n",
        "\n",
        "\n",
        "\n",
        "\n",
        "\n",
        "\n",
        "\n",
        "\n",
        "\n",
        "\n",
        "\n",
        "\n",
        "\n",
        "\n",
        "\n",
        "\n",
        "\n",
        "\n",
        "\n",
        "\n",
        "\n",
        "\n",
        "\n",
        "--"
      ]
    },
    {
      "cell_type": "code",
      "metadata": {
        "colab": {
          "base_uri": "https://localhost:8080/"
        },
        "id": "F31LVgFolLQL",
        "outputId": "7a942238-598f-40f2-fc9f-c88a99f15d9e"
      },
      "source": [
        "b = 50\n",
        "\n",
        "def calc_tolal_sum(num1, num2, num3):\n",
        "  a = 10\n",
        "  print(num1, num2, num3)\n",
        "  print(a)\n",
        "  b = 66\n",
        "\n",
        "\n",
        "\n",
        "calc_tolal_sum(num1, num2, num3)\n",
        "print(b)"
      ],
      "execution_count": null,
      "outputs": [
        {
          "output_type": "stream",
          "name": "stdout",
          "text": [
            "4 5 6\n",
            "10\n",
            "50\n"
          ]
        }
      ]
    },
    {
      "cell_type": "code",
      "metadata": {
        "colab": {
          "base_uri": "https://localhost:8080/"
        },
        "id": "6BPY4Sw1t-fd",
        "outputId": "be135489-64e7-4b5c-d45a-d2a710c91421"
      },
      "source": [
        "a = [1, 2, 3]\n",
        "b = [[1, 2, 3], [4, 5, 6]]\n",
        "print(sorted(a))\n",
        "a.sort()\n",
        "print(a)"
      ],
      "execution_count": null,
      "outputs": [
        {
          "output_type": "stream",
          "name": "stdout",
          "text": [
            "[1, 2, 3]\n",
            "[1, 2, 3]\n"
          ]
        }
      ]
    },
    {
      "cell_type": "code",
      "metadata": {
        "colab": {
          "base_uri": "https://localhost:8080/"
        },
        "id": "yEmWepGhwsp-",
        "outputId": "9fd45aa8-dcc2-4ce1-afd8-e0ed04af72e9"
      },
      "source": [
        "abs(0.1 + 0.2 - 0.3) <= 0.0000001"
      ],
      "execution_count": null,
      "outputs": [
        {
          "output_type": "execute_result",
          "data": {
            "text/plain": [
              "True"
            ]
          },
          "metadata": {},
          "execution_count": 32
        }
      ]
    },
    {
      "cell_type": "markdown",
      "metadata": {
        "id": "UK2eIJ-gTdaR"
      },
      "source": [
        "# 2. Вещественное сравнение\n",
        "\n",
        "Необходимо реализовать функцию `is_bigger(num1, num2, eps)`.\n",
        "Эта функция принимает 3 параметра:\n",
        "1. num1 - первое вещественное число\n",
        "2. num2 - второе вещественное число\n",
        "3. eps - эпсилон (вещественное число).\n",
        "\n",
        "Эта функция возвращает логическое True, если число num1 больше или равно num2 хотя бы на епсилон. \n",
        "В противном случае она должна вернуть логическое False.\n",
        "\n",
        "В данной задаче не надо читать или писать данные.\n",
        "Вместо этого нужно только реализовать функцию.\n",
        "\n",
        "## Шаблон для решения\n",
        "\n",
        "```\n",
        "def is_bigger(num1, num2, eps):\n",
        "    '''Вставьте ваш код здесь'''\n",
        "```\n",
        "\n",
        "## Примечание\n",
        "\n",
        "В качестве отступа внутри функции используется 4 пробела.\n",
        "\n",
        "В целом при сравнении вещественных чисел стоит добавлять точность eps, так как из-за особенностей их представления в компьютере возможны погрешности.\n",
        "\n",
        "## Комментарий к примерам\n",
        "\n",
        "Ниже приведены примеры для лучшего понимания условия задачи.\n",
        "Однако не стоит ориентироваться на них, как на пример данных, которые нужно читать или выводить, потому что в этой задаче **не надо ничего читать и писать**.\n",
        "Нужно **только реализовать указанную функцию**.\n",
        "Это означает, что весь код решения должен находиться внутри тела функции и возвращать требуемый результат через инструкцию return. Операции считывания данных (например, `input()`) или их вывода (например, `print()`) писать не надо.\n",
        "Нужно оперировать внутри функции только аргументами, которые подставляются в функцию автоматически.\n",
        "\n",
        "## Пример входных данных для функции\n",
        "\n",
        "```\n",
        "0.6 0.5 0.01\n",
        "1.0 0.9 0.3\n",
        "1.0 0.9 0.1\n",
        "```\n",
        "\n",
        "## Пример результата работы функции\n",
        "\n",
        "```\n",
        "True\n",
        "False\n",
        "True\n",
        "```"
      ]
    },
    {
      "cell_type": "markdown",
      "metadata": {
        "id": "MxbrQeyrXE7h"
      },
      "source": [
        "Вещественная арифметика: https://floating-point-gui.de"
      ]
    },
    {
      "cell_type": "code",
      "metadata": {
        "id": "1-PQL8BRX-Ti"
      },
      "source": [
        "def is_bigger(num1, num2, eps):\n",
        "    '''Вставьте ваш код здесь'''\n",
        "\n",
        "    return num1 >= num2 + eps"
      ],
      "execution_count": null,
      "outputs": []
    },
    {
      "cell_type": "code",
      "metadata": {
        "colab": {
          "base_uri": "https://localhost:8080/"
        },
        "id": "xNU4mjOp0aiX",
        "outputId": "c546cb5c-b93f-4152-e020-665504fdfe14"
      },
      "source": [
        "def func():\n",
        "    a = 1555\n",
        "    # if a:\n",
        "    #     return True\n",
        "    # else:\n",
        "    #     return False\n",
        "    return bool(a)\n",
        "\n",
        "print(func())"
      ],
      "execution_count": null,
      "outputs": [
        {
          "output_type": "stream",
          "name": "stdout",
          "text": [
            "True\n"
          ]
        }
      ]
    },
    {
      "cell_type": "code",
      "metadata": {
        "id": "DR_UlnutzVqg"
      },
      "source": [
        ""
      ],
      "execution_count": null,
      "outputs": []
    },
    {
      "cell_type": "code",
      "metadata": {
        "id": "HnceRA_Sx0OJ"
      },
      "source": [
        "def is_bigger(num1, num2, eps):\n",
        "    '''Вставьте ваш код здесь'''\n",
        "    if num1 - num2 >= eps:\n",
        "      return True\n",
        "    else:\n",
        "      return False"
      ],
      "execution_count": null,
      "outputs": []
    },
    {
      "cell_type": "code",
      "metadata": {
        "id": "YNg_Z6xQyY3h"
      },
      "source": [
        "def is_bigger(num1, num2, eps):\n",
        "    '''Вставьте ваш код здесь'''\n",
        "    if num1 - num2 - eps >= 0:\n",
        "      return True\n",
        "    else:\n",
        "      return False"
      ],
      "execution_count": null,
      "outputs": []
    },
    {
      "cell_type": "markdown",
      "metadata": {
        "id": "vYBqjkI2cQhh"
      },
      "source": [
        "# 3. Неоднородные данные\n",
        "\n",
        "Есть набор данных о посадочных талонах, который поступают от разных подрядчиков.\n",
        "Поэтому сами данные неоднородны.\n",
        "Вам необходимо реализовать логику, которая приведет все данные к одному формату.\n",
        "\n",
        "Входные данные представляют собой список следующих полей:\n",
        "1. **ticket_no**\n",
        "2. **flight_id**\n",
        "3. **boarding_no**\n",
        "4. **seat_no**\n",
        "\n",
        "Ниже указано то, какие данные могут быть в каждом из полей и как это поле нужно преобразовать.\n",
        "\n",
        "Поле **ticket_no** всегда содержит строчку, а поле **flight_id** всегда содержит число.\n",
        "\n",
        "Возможные значения **boarding_no**:\n",
        "1. Строчка, начинающееся с \"Номер:\"\n",
        "2. Строчка (начинается не с \"Номер:\")\n",
        "Необходимо все значения привести к строчке, без начала \"Номер:\"\n",
        "\n",
        "Возможные значения **seat_no**:\n",
        "1. Ряд и место, разделенные символом \";\"\n",
        "2. Ряд и место слитно\n",
        "Необходимо все значения привести к написанию, через точку с запятой (символ \";\").\n",
        "Ряд - это целое число от 1 до 299. Число пишится без ведущих нулей - 1, а не 01.\n",
        "Место - это буква от \"A\" до \"H\".\n",
        "\n",
        "Ориентируйтесь на пример ввода-вывода при реализации необходимого преобразования входных данных.\n",
        "\n",
        "В этой задаче надо написать весь код самостоятельно (а не реализовывать какую-то конкретную функцию).\n",
        "Решение должно само читать входные данные и писать ответ в заданном формате.\n",
        "\n",
        "## Формат входных данных\n",
        "\n",
        "На первой строчке записано натуральное число N.\n",
        "На последующих N строчках записаны данные об очередном талоне.\n",
        "Порядок полей в строчке: **ticket_no**, **flight_id**, **boarding_no**, **seat_no**.\n",
        "Все поля разделены одной запятой. В самих данных запятых нет.\n",
        "\n",
        "## Формат выходных данных\n",
        "\n",
        "Необходимо вывести N строчек.\n",
        "В каждой строчке записаны исправленные поля **ticket_no**, **flight_id**, **boarding_no**, **seat_no**.\n",
        "Все поля разделены одной запятой.\n",
        "\n",
        "## Пример входных данных\n",
        "\n",
        "```\n",
        "5\n",
        "EXGJGJ521,1,252st,10;C\n",
        "2Jw2n5l,2,753ss,1F\n",
        "KUIK2YL,3,Номер:327ggs,30A\n",
        "8XSOVGVNDQ,4,Номер:mn001,51;A\n",
        "DRXGH62d,5,7733d,62;A\n",
        "```\n",
        "\n",
        "## Пример выходных данных\n",
        "\n",
        "```\n",
        "EXGJGJ521,1,252st,10;C\n",
        "2Jw2n5l,2,753ss,1;F\n",
        "KUIK2YL,3,327ggs,30;A\n",
        "8XSOVGVNDQ,4,mn001,51;A\n",
        "DRXGH62d,5,7733d,62;A\n",
        "```"
      ]
    },
    {
      "cell_type": "code",
      "metadata": {
        "colab": {
          "base_uri": "https://localhost:8080/"
        },
        "id": "cfl2z--X9ksP",
        "outputId": "c08ebb46-62cf-44bf-e6e2-3e977cc34a1c"
      },
      "source": [
        "\"a\".isdigit()"
      ],
      "execution_count": null,
      "outputs": [
        {
          "output_type": "execute_result",
          "data": {
            "text/plain": [
              "False"
            ]
          },
          "metadata": {},
          "execution_count": 45
        }
      ]
    },
    {
      "cell_type": "code",
      "metadata": {
        "colab": {
          "base_uri": "https://localhost:8080/",
          "height": 134
        },
        "id": "nWk_a3qSck14",
        "outputId": "13a2f3fa-1c5a-4a48-ad7b-8a479da41518"
      },
      "source": [
        "n = int(input())\n",
        "for i in range(n):\n",
        "    row = input().split(\",\")\n",
        "    if row[2].startswith(\"Номер:\"):\n",
        "        row[2] = row[2][len(\"Номер:\"):]\n",
        "    if \";\" not in row[3]:\n",
        "        row[3] = f\"{row[3][:-1]};{row[3][-1]}\"\n",
        "    print(*row, sep=\",\")"
      ],
      "execution_count": null,
      "outputs": [
        {
          "output_type": "error",
          "ename": "SyntaxError",
          "evalue": "ignored",
          "traceback": [
            "\u001b[0;36m  File \u001b[0;32m\"<ipython-input-40-aa16c6ed0f51>\"\u001b[0;36m, line \u001b[0;32m7\u001b[0m\n\u001b[0;31m    row[3] = f\"{row[:-1]\"\u001b[0m\n\u001b[0m            ^\u001b[0m\n\u001b[0;31mSyntaxError\u001b[0m\u001b[0;31m:\u001b[0m f-string: expecting '}'\n"
          ]
        }
      ]
    },
    {
      "cell_type": "markdown",
      "metadata": {
        "id": "bMLvMC9Ze21S"
      },
      "source": [
        "# 4. Дубликаты\n",
        "\n",
        "К сожалению, обнаружилось, что в данных о посадочных талонах есть дубликаты (повторяющиеся значения).\n",
        "Дубликатом считаются строки, у которых одинаковы одновременно поля **ticket_no** и **flight_id**.\n",
        "\n",
        "Необходимо убрать дубликаты строк и оставить только первые вхождения.\n",
        "Порядок записей менять не надо.\n",
        "\n",
        "В этой задаче надо написать весь код самостоятельно (а не реализовывать какую-то конкретную функцию).\n",
        "Решение должно само читать входные данные и писать ответ в заданном формате.\n",
        "\n",
        "## Формат входных данных\n",
        "\n",
        "На первой строчке записано натуральное число N.\n",
        "На последующих N строчках записаны данные об очередном талоне.\n",
        "Порядок полей в строчке: **ticket_no**, **flight_id**, **boarding_no**, **seat_no**.\n",
        "Все поля разделены одной запятой. В самих данных запятых нет.\n",
        "\n",
        "## Формат выходных данных\n",
        "\n",
        "Необходимо вывести все исходные строчки, без дубликатов.\n",
        "В каждой строчке записаны исходные поля **ticket_no**, **flight_id**, **boarding_no**, **seat_no**.\n",
        "Все поля разделены одной запятой.\n",
        "\n",
        "## Пример входных данных\n",
        "\n",
        "```\n",
        "7\n",
        "EXGJGJ521,1,252st,10;C\n",
        "EXGJGJ521,1,252st,11;C\n",
        "2Jw2n5l,2,753ss,16;F\n",
        "KUIK2YL,3,327ggs,30;A\n",
        "KUIK2YL,3,328ggs,30;B\n",
        "8XSOVGVNDQ,4,mn001,51;A\n",
        "DRXGH62d,5,7733d,62;A\n",
        "```\n",
        "\n",
        "## Пример выходных данных\n",
        "\n",
        "```\n",
        "EXGJGJ521,1,252st,10;C\n",
        "2Jw2n5l,2,753ss,16;F\n",
        "KUIK2YL,3,327ggs,30;A\n",
        "8XSOVGVNDQ,4,mn001,51;A\n",
        "DRXGH62d,5,7733d,62;A\n",
        "```"
      ]
    },
    {
      "cell_type": "code",
      "metadata": {
        "colab": {
          "base_uri": "https://localhost:8080/"
        },
        "id": "xegSrUPxCJQR",
        "outputId": "7f597975-1846-43ea-e03e-2b66a3b3600a"
      },
      "source": [
        "a = list(\"abc\")\n",
        "a[2]='g'.upper()\n",
        "print(''.join(a))"
      ],
      "execution_count": null,
      "outputs": [
        {
          "output_type": "stream",
          "name": "stdout",
          "text": [
            "abG\n"
          ]
        }
      ]
    },
    {
      "cell_type": "code",
      "metadata": {
        "colab": {
          "base_uri": "https://localhost:8080/"
        },
        "id": "i-NgVFV7AfKM",
        "outputId": "8cf56448-b11f-4205-f50e-0550fa9a745d"
      },
      "source": [
        "a = (1, 2,)\n",
        "print(a)"
      ],
      "execution_count": null,
      "outputs": [
        {
          "output_type": "stream",
          "name": "stdout",
          "text": [
            "(1, 2)\n"
          ]
        }
      ]
    },
    {
      "cell_type": "code",
      "metadata": {
        "id": "GkfC3PWmfVkQ"
      },
      "source": [
        "n = int(input())\n",
        "ids = []\n",
        "for i in range(n):\n",
        "    row = input().split(\",\")\n",
        "    current_id = [row[0], row[1],]\n",
        "    if current_id in ids:\n",
        "        continue\n",
        "    ids.append(current_id)\n",
        "    print(*row, sep=\",\")"
      ],
      "execution_count": null,
      "outputs": []
    },
    {
      "cell_type": "code",
      "metadata": {
        "id": "3BhcI--3AgFU"
      },
      "source": [
        "n = int(input())\n",
        "ids = set()\n",
        "for i in range(n):\n",
        "    row = input().split(\",\")\n",
        "    current_id = (row[0], row[1],)\n",
        "    if current_id in ids:\n",
        "        continue\n",
        "    ids.add(current_id)\n",
        "    print(*row, sep=\",\")"
      ],
      "execution_count": null,
      "outputs": []
    },
    {
      "cell_type": "markdown",
      "metadata": {
        "id": "6rc1N6eRfcHu"
      },
      "source": [
        "# Обратная связь\n",
        "Ссылка на форму обратной связи:\n",
        "https://forms.gle/SnqinPcmAtXzF7u77"
      ]
    }
  ]
}